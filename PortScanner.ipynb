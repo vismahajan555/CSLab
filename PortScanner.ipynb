{
  "nbformat": 4,
  "nbformat_minor": 0,
  "metadata": {
    "colab": {
      "provenance": []
    },
    "kernelspec": {
      "name": "python3",
      "display_name": "Python 3"
    },
    "language_info": {
      "name": "python"
    }
  },
  "cells": [
    {
      "cell_type": "code",
      "execution_count": 2,
      "metadata": {
        "colab": {
          "base_uri": "https://localhost:8080/"
        },
        "id": "LwQXzlobRhZi",
        "outputId": "5bbe4ed5-2973-4c8f-ecd7-91b7baf75649"
      },
      "outputs": [
        {
          "output_type": "stream",
          "name": "stdout",
          "text": [
            "What you want to scan?: localhost\n",
            "Starting scan on host: 127.0.0.1\n",
            "port 0 is closed\n",
            "port 1 is closed\n",
            "port 2 is closed\n",
            "port 3 is closed\n",
            "port 4 is closed\n",
            "Time taken 0.00 seconds\n"
          ]
        }
      ],
      "source": [
        "# Here we import two modules, socket and time\n",
        "\n",
        "import socket\n",
        "import time\n",
        "\n",
        "s = socket.socket(socket.AF_INET, socket.SOCK_STREAM)\n",
        "\n",
        "# here we asking for the target website\n",
        "# or host\n",
        "target = input('What you want to scan?: ')\n",
        "\n",
        "# next line gives us the ip address\n",
        "# of the target\n",
        "target_ip = socket.gethostbyname(target)\n",
        "print('Starting scan on host:', target_ip)\n",
        "\n",
        "# function for scanning ports\n",
        "\n",
        "\n",
        "def port_scan(port):\n",
        "\ttry:\n",
        "\t\ts.connect((target_ip, port))\n",
        "\t\treturn True\n",
        "\texcept:\n",
        "\t\treturn False\n",
        "\n",
        "\n",
        "start = time.time()\n",
        "\n",
        "# here we are scanning port 0 to 4\n",
        "for port in range(5):\n",
        "\tif port_scan(port):\n",
        "\t\tprint(f'port {port} is open')\n",
        "\telse:\n",
        "\t\tprint(f'port {port} is closed')\n",
        "\n",
        "end = time.time()\n",
        "print(f'Time taken {end-start:.2f} seconds')"
      ]
    }
  ]
}