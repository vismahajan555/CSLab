{
  "nbformat": 4,
  "nbformat_minor": 0,
  "metadata": {
    "colab": {
      "provenance": []
    },
    "kernelspec": {
      "name": "python3",
      "display_name": "Python 3"
    },
    "language_info": {
      "name": "python"
    }
  },
  "cells": [
    {
      "cell_type": "code",
      "execution_count": 2,
      "metadata": {
        "colab": {
          "base_uri": "https://localhost:8080/"
        },
        "id": "4nBzQ0s47n4O",
        "outputId": "a998794b-4294-4d85-c098-0b919fdf5bca"
      },
      "outputs": [
        {
          "output_type": "stream",
          "name": "stdout",
          "text": [
            "Mounted at /content/drive\n"
          ]
        }
      ],
      "source": [
        "from google.colab import drive\n",
        "drive.mount('/content/drive')"
      ]
    },
    {
      "cell_type": "code",
      "source": [
        "import sys\n",
        "sys.path.insert(0,'/content/drive/My Drive/Simplified_DES')"
      ],
      "metadata": {
        "id": "jdsCYFsz7ogW"
      },
      "execution_count": 3,
      "outputs": []
    },
    {
      "cell_type": "code",
      "source": [
        "from sdes import SDES\n",
        "import time\n",
        "\n",
        "if __name__ == \"__main__\":\n",
        "\n",
        "    # Input the plaintext\n",
        "    print(\"Enter the plaintext: \")\n",
        "    plaintext = input().rstrip()\n",
        "    # Input the key \n",
        "    print(\"Enter the key. Value should be in range 0 to {} as the key size is {}\".format(2 ** SDES.key_size - 1, SDES.key_size))\n",
        "    key = int(input())\n",
        "    if (key < 0) or (key > (2 ** SDES.key_size - 1)) :\n",
        "        print(\"Follow the rules for the key\")\n",
        "        exit(1)\n",
        "\n",
        "    print(\"Length of Text : \", len(plaintext))\n",
        "    print(\"Encrypting...\")\n",
        "    start_time = time.time()\n",
        "    # Generate all the subkeys\n",
        "    ciphertext_hex = []\n",
        "    subkeys = SDES.generate_subkeys(key)\n",
        "    ciphertext = SDES.encrypt(plaintext, subkeys)\n",
        "    for i in ciphertext :\n",
        "        ciphertext_hex.append(\"{:02x}\".format(int(i, 2)))\n",
        "    ciphertext_hex = \" \".join(ciphertext_hex)\n",
        "    time_required = time.time() - start_time\n",
        "    print(\"Ciphertext : \", ciphertext_hex)\n",
        "    print(\"Time required for encryption :\", time_required)\n",
        "    ciphertext = \"\".join(ciphertext)\n",
        "    print(ciphertext)\n",
        "\n",
        "    print(\"Decrypting...\")\n",
        "    start_time = time.time()\n",
        "    subkeys = SDES.generate_subkeys(key)\n",
        "    subkeys.reverse()\n",
        "    plaintext = SDES.decrypt(ciphertext, subkeys)\n",
        "    plaintext = \"\".join(plaintext)\n",
        "    time_required = time.time() - start_time\n",
        "    print(\"Plaintext : \", plaintext)\n",
        "    print(\"Time required for decryption :\", time_required)"
      ],
      "metadata": {
        "colab": {
          "base_uri": "https://localhost:8080/"
        },
        "id": "1DHrz_el77Rt",
        "outputId": "74b8e627-1173-4356-cebb-9c8c835b0e71"
      },
      "execution_count": 5,
      "outputs": [
        {
          "output_type": "stream",
          "name": "stdout",
          "text": [
            "Enter the plaintext: \n",
            "Sanjivani COE\n",
            "Enter the key. Value should be in range 0 to 1023 as the key size is 10\n",
            "5\n",
            "Length of Text :  13\n",
            "Encrypting...\n",
            "Ciphertext :  0e 99 6a 0f b7 41 99 6a b7 d8 52 cd 74\n",
            "Time required for encryption : 0.0004897117614746094\n",
            "00001110100110010110101000001111101101110100000110011001011010101011011111011000010100101100110101110100\n",
            "Decrypting...\n",
            "Plaintext :  Sanjivani COE\n",
            "Time required for decryption : 0.0004456043243408203\n"
          ]
        }
      ]
    },
    {
      "cell_type": "code",
      "source": [],
      "metadata": {
        "id": "9dKXi9_m8Ab2"
      },
      "execution_count": 4,
      "outputs": []
    }
  ]
}