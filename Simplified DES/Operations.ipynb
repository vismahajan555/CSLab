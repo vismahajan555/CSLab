{
  "nbformat": 4,
  "nbformat_minor": 0,
  "metadata": {
    "colab": {
      "provenance": []
    },
    "kernelspec": {
      "name": "python3",
      "display_name": "Python 3"
    },
    "language_info": {
      "name": "python"
    }
  },
  "cells": [
    {
      "cell_type": "markdown",
      "source": [
        "Operations"
      ],
      "metadata": {
        "id": "PmxPd2h91_1G"
      }
    },
    {
      "cell_type": "code",
      "execution_count": 1,
      "metadata": {
        "id": "sZ5P3etj1rJO"
      },
      "outputs": [],
      "source": [
        "class Operations :\n",
        "\n",
        "    @classmethod\n",
        "    def modulo_operation(cls, a, b) :\n",
        "        return a % b\n",
        "\n",
        "    @classmethod\n",
        "    def xor_operation(cls, a, b) :\n",
        "        return a ^ b\n",
        "\n",
        "    @classmethod\n",
        "    def shift_operation(cls, a, b, direction = 'left') :\n",
        "        if direction == \"left\" :\n",
        "            return a << b\n",
        "        elif direction == \"right\" :\n",
        "            return a >> b\n",
        "        else :\n",
        "            print(\"Mention the direction as either 'left' or 'right' !!\")\n",
        "            return a\n",
        "\n",
        "    @classmethod\n",
        "    def gcd_using_euclidean(cls, a, b) :\n",
        "        a, b = abs(a), abs(b)\n",
        "        if a < b :\n",
        "            a, b = b, a\n",
        "\n",
        "        remainder = gcd = b\n",
        "        while (remainder != 0) :\n",
        "            gcd = remainder\n",
        "            remainder = a % b\n",
        "            a = b\n",
        "            b = remainder\n",
        "\n",
        "        return gcd\n",
        "\n",
        "    @classmethod\n",
        "    def circular_left_shift(cls, num, shift_amount, size_of_shift_register) :\n",
        "        binary_rep = \"{0:0{1}b}\".format(num, size_of_shift_register)\n",
        "        shift_amount = shift_amount % size_of_shift_register\n",
        "        ans = binary_rep[shift_amount:] + binary_rep[:shift_amount]\n",
        "        return int(ans, 2)"
      ]
    },
    {
      "cell_type": "code",
      "source": [],
      "metadata": {
        "id": "w1s0M1ry2FQb"
      },
      "execution_count": null,
      "outputs": []
    }
  ]
}