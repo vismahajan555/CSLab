{
  "nbformat": 4,
  "nbformat_minor": 0,
  "metadata": {
    "colab": {
      "provenance": []
    },
    "kernelspec": {
      "name": "python3",
      "display_name": "Python 3"
    },
    "language_info": {
      "name": "python"
    }
  },
  "cells": [
    {
      "cell_type": "code",
      "source": [
        "from google.colab import drive\n",
        "drive.mount('/content/drive')"
      ],
      "metadata": {
        "colab": {
          "base_uri": "https://localhost:8080/"
        },
        "id": "Pj9XxyMj5OHl",
        "outputId": "762bf11c-e98e-4056-e172-88d1b2e8a40c"
      },
      "execution_count": 8,
      "outputs": [
        {
          "output_type": "stream",
          "name": "stdout",
          "text": [
            "Drive already mounted at /content/drive; to attempt to forcibly remount, call drive.mount(\"/content/drive\", force_remount=True).\n"
          ]
        }
      ]
    },
    {
      "cell_type": "code",
      "source": [
        "import sys\n",
        "sys.path.insert(0,'/content/drive/My Drive/Simplified_DES')"
      ],
      "metadata": {
        "id": "sez1rM3e5sFp"
      },
      "execution_count": 10,
      "outputs": []
    },
    {
      "cell_type": "markdown",
      "source": [
        "SDES"
      ],
      "metadata": {
        "id": "YJNdyqPQ7RZi"
      }
    },
    {
      "cell_type": "code",
      "source": [
        "#import operations as Operations\n",
        "\n",
        "from operations import Operations\n",
        "\n",
        "class SDES :\n",
        "    plaintext_block_size = 8\n",
        "    key_size = 10\n",
        "    no_of_rounds = 2\n",
        "    subkey_initial_permutation = (3, 5, 2, 7, 4, 10, 1, 9, 8, 6)\n",
        "    subkey_compression_permutation = (6, 3, 7, 4, 8, 5, 10, 9)\n",
        "    plaintext_initial_permutation = (2, 6, 3, 1, 4, 8, 5, 7)\n",
        "    plaintext_expansion_permutation = (4, 1, 2, 3, 2, 3, 4, 1)\n",
        "    key_shift_values = (1, 2)\n",
        "    substitution_box_0 =[[1, 0, 3, 2],\n",
        "                         [3, 2, 1, 0],\n",
        "                         [0, 2, 1, 3],\n",
        "                         [3, 1, 3, 2]]\n",
        "    substitution_box_1 =[[0, 1, 2, 3],\n",
        "                         [2, 0, 1, 3],\n",
        "                         [3, 0, 1, 0],\n",
        "                         [2, 1, 0, 3]]\n",
        "    right_half_permutation_box = (2, 4, 3, 1)\n",
        "    inverse_initial_permutation = (4, 1, 3, 5, 7, 2, 8, 6)\n",
        "\n",
        "    @classmethod\n",
        "    def __get_permuted_value(cls, data, permutation) :\n",
        "        permuted_value = []\n",
        "        for i in permutation :\n",
        "            permuted_value.append(data[i - 1])\n",
        "        return(\"\".join(permuted_value))\n",
        "\n",
        "    @classmethod\n",
        "    def generate_subkeys(cls, key) :\n",
        "\n",
        "        # Get the fixed key-length binary represenation of the key\n",
        "        key = format(key, \"0{}b\".format(cls.key_size))\n",
        "        # Apply initial permutation\n",
        "        permuted_key = cls.__get_permuted_value(key, cls.subkey_initial_permutation)\n",
        "\n",
        "        # Generate all subkeys iteratively\n",
        "        all_subkeys = []\n",
        "        for i in range(cls.no_of_rounds) :\n",
        "\n",
        "            # Get the left and right half\n",
        "            left_half = permuted_key[:int(cls.key_size/2)]\n",
        "            right_half = permuted_key[int(cls.key_size/2):]\n",
        "            # Circularly shift the left half and the right half\n",
        "            left_half = format(Operations.circular_left_shift(int(left_half, 2), cls.key_shift_values[i], int(cls.key_size/2)), \\\n",
        "                                \"0{}b\".format(int(cls.key_size/2)))\n",
        "            right_half = format(Operations.circular_left_shift(int(right_half, 2), cls.key_shift_values[i], int(cls.key_size/2)), \\\n",
        "                                \"0{}b\".format(int(cls.key_size/2)))\n",
        "            # Merge the left and right half\n",
        "            merged_halfs = left_half + right_half\n",
        "            # Apply compression permutation and add to list of subkeys\n",
        "            all_subkeys.append(cls.__get_permuted_value(merged_halfs, cls.subkey_compression_permutation))\n",
        "            # Use the uncompressed subkey of current round for next round\n",
        "            permuted_key = merged_halfs\n",
        "\n",
        "        return all_subkeys\n",
        "\n",
        "    @classmethod\n",
        "    def __perform_substitution(cls, data, sub_box) :\n",
        "        row_number = int(data[0] + data[3], 2)\n",
        "        column_number = int(data[1] + data[2], 2)\n",
        "        return format(sub_box[row_number][column_number], \"02b\")\n",
        "\n",
        "    @classmethod\n",
        "    def encrypt(cls, plaintext, keys) :\n",
        "        permuted_plaintext = []\n",
        "        for i in plaintext :\n",
        "            binary_plaintext = format(ord(i), \"0{}b\".format(cls.plaintext_block_size))\n",
        "            permuted_plaintext.append(cls.__get_permuted_value(binary_plaintext, cls.plaintext_initial_permutation))\n",
        "\n",
        "        k = 0\n",
        "        for key in keys :\n",
        "            i = 0\n",
        "            for block in permuted_plaintext :\n",
        "                left_half = block[:4]\n",
        "                right_half = block[4:]\n",
        "                new_left_half = right_half\n",
        "\n",
        "                right_half = cls.__get_permuted_value(right_half, cls.plaintext_expansion_permutation)\n",
        "                temp = Operations.xor_operation(int(right_half, 2), int(key, 2))\n",
        "                right_half = format(temp, \"0{}b\".format(len(block)))\n",
        "\n",
        "                right_half = cls.__perform_substitution(right_half[:4], cls.substitution_box_0) + \\\n",
        "                             cls.__perform_substitution(right_half[4:], cls.substitution_box_1)\n",
        "                right_half = cls.__get_permuted_value(right_half, cls.right_half_permutation_box)\n",
        "\n",
        "                temp = Operations.xor_operation(int(right_half, 2), int(left_half, 2))\n",
        "                new_right_half = format(temp, \"0{}b\".format(int(len(block)/2)))\n",
        "                if (k == len(keys) - 1) :\n",
        "                    permuted_plaintext[i] = new_right_half + new_left_half\n",
        "                else :\n",
        "                    permuted_plaintext[i] = new_left_half + new_right_half\n",
        "                i += 1\n",
        "            k += 1\n",
        "\n",
        "        ciphertext = []\n",
        "        for block in permuted_plaintext :\n",
        "            ciphertext.append(cls.__get_permuted_value(block, cls.inverse_initial_permutation))\n",
        "\n",
        "        return ciphertext \n",
        "\n",
        "    @classmethod\n",
        "    def decrypt(cls, ciphertext, keys) :\n",
        "        ciphertext_blocks = []\n",
        "        i = 0\n",
        "        while (i < len(ciphertext)) :\n",
        "            temp = ciphertext[i:i+cls.plaintext_block_size]\n",
        "            ciphertext_blocks.append(cls.__get_permuted_value(temp, cls.plaintext_initial_permutation))\n",
        "            i = i + 8\n",
        "\n",
        "        k = 0\n",
        "        for key in keys :\n",
        "            i = 0\n",
        "            for block in ciphertext_blocks :\n",
        "                left_half = block[:4]\n",
        "                right_half = block[4:]\n",
        "                new_left_half = right_half\n",
        "\n",
        "                right_half = cls.__get_permuted_value(right_half, cls.plaintext_expansion_permutation)\n",
        "                temp = Operations.xor_operation(int(right_half, 2), int(key, 2))\n",
        "                right_half = format(temp, \"0{}b\".format(len(block)))\n",
        "\n",
        "                right_half = cls.__perform_substitution(right_half[:4], cls.substitution_box_0) + \\\n",
        "                             cls.__perform_substitution(right_half[4:], cls.substitution_box_1)\n",
        "                right_half = cls.__get_permuted_value(right_half, cls.right_half_permutation_box)\n",
        "\n",
        "                temp = Operations.xor_operation(int(right_half, 2), int(left_half, 2))\n",
        "                new_right_half = format(temp, \"0{}b\".format(int(len(block)/2)))\n",
        "                if (k == len(keys) - 1) :\n",
        "                    ciphertext_blocks[i] = new_right_half + new_left_half\n",
        "                else :\n",
        "                    ciphertext_blocks[i] = new_left_half + new_right_half\n",
        "                i += 1\n",
        "            k += 1\n",
        "\n",
        "        plaintext = []\n",
        "        for block in ciphertext_blocks :\n",
        "            temp = cls.__get_permuted_value(block, cls.inverse_initial_permutation)\n",
        "            plaintext.append(chr(int(temp, 2)))\n",
        "            # plaintext.append(temp)\n",
        "\n",
        "        return plaintext"
      ],
      "metadata": {
        "id": "px2lkMeH6u06"
      },
      "execution_count": 12,
      "outputs": []
    },
    {
      "cell_type": "code",
      "source": [],
      "metadata": {
        "id": "YXI57CZQ66rT"
      },
      "execution_count": null,
      "outputs": []
    }
  ]
}