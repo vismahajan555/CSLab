{
 "cells": [
  {
   "cell_type": "code",
   "execution_count": 12,
   "id": "b3a2af6f",
   "metadata": {},
   "outputs": [
    {
     "name": "stdout",
     "output_type": "stream",
     "text": [
      "The Value of P is :23\n",
      "The Value of G is :9\n",
      "The Private Key a for Alice is :4\n",
      "The Private Key b for Bob is :3\n",
      "Secret key for the Alice is : 9\n",
      "Secret Key for the Bob is : 9\n"
     ]
    }
   ],
   "source": [
    "from random import randint\n",
    "\n",
    "P = 23\n",
    "G = 9\n",
    "\n",
    "print('The Value of P is :%d'%(P))\n",
    "print('The Value of G is :%d'%(G))\n",
    "\n",
    "a = 4\n",
    "print('The Private Key a for Alice is :%d'%(a))\n",
    "x = int(pow(G,a,P))\n",
    "\n",
    "b = 3\n",
    "print('The Private Key b for Bob is :%d'%(b))\n",
    "\n",
    "y = int(pow(G,b,P))\n",
    "\n",
    "\n",
    "ka = int(pow(y,a,P))\n",
    "kb = int(pow(x,b,P))\n",
    "\n",
    "print('Secret key for the Alice is : %d'%(ka))\n",
    "print('Secret Key for the Bob is : %d'%(kb))\n",
    "\n"
   ]
  },
  {
   "cell_type": "code",
   "execution_count": 19,
   "id": "9064e842",
   "metadata": {},
   "outputs": [
    {
     "name": "stdout",
     "output_type": "stream",
     "text": [
      "Encrypted Message is :  _jr|qwjr\n"
     ]
    }
   ],
   "source": [
    "str = \"Vaishnavi\"\n",
    "enc = \"\"\n",
    "for i in str:\n",
    "    enc += chr(ord(i)+ka%P)\n",
    "    #print(chr(enc), end=\"\")\n",
    "print(\"Encrypted Message is : \",enc)"
   ]
  },
  {
   "cell_type": "code",
   "execution_count": 24,
   "id": "f6e5ae54",
   "metadata": {},
   "outputs": [
    {
     "name": "stdout",
     "output_type": "stream",
     "text": [
      "Decrypted Message is :  Vaishnavi\n"
     ]
    }
   ],
   "source": [
    "dec = \"\"\n",
    "for i in enc:\n",
    "    dec += chr(ord(i)-kb%P)\n",
    "print(\"Decrypted Message is : \",dec)"
   ]
  },
  {
   "cell_type": "code",
   "execution_count": null,
   "id": "bf605b36",
   "metadata": {},
   "outputs": [],
   "source": []
  }
 ],
 "metadata": {
  "kernelspec": {
   "display_name": "Python 3 (ipykernel)",
   "language": "python",
   "name": "python3"
  },
  "language_info": {
   "codemirror_mode": {
    "name": "ipython",
    "version": 3
   },
   "file_extension": ".py",
   "mimetype": "text/x-python",
   "name": "python",
   "nbconvert_exporter": "python",
   "pygments_lexer": "ipython3",
   "version": "3.8.10"
  }
 },
 "nbformat": 4,
 "nbformat_minor": 5
}
