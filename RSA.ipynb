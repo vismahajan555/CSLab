{
  "nbformat": 4,
  "nbformat_minor": 0,
  "metadata": {
    "colab": {
      "provenance": []
    },
    "kernelspec": {
      "name": "python3",
      "display_name": "Python 3"
    },
    "language_info": {
      "name": "python"
    }
  },
  "cells": [
    {
      "cell_type": "code",
      "execution_count": 18,
      "metadata": {
        "colab": {
          "base_uri": "https://localhost:8080/"
        },
        "id": "IUxvldUznS8m",
        "outputId": "aa867254-085d-428f-a230-09dacdf05c80"
      },
      "outputs": [
        {
          "output_type": "stream",
          "name": "stdout",
          "text": [
            "e 3\n",
            "d 13.666666666666666\n",
            "Message data =  2\n",
            "Encrypted data =  8.0\n",
            "Original Message Sent =  2\n"
          ]
        }
      ],
      "source": [
        "# Python for RSA asymmetric cryptographic algorithm.\n",
        "# For demonstration, values are\n",
        "# relatively small compared to practical application\n",
        "import math\n",
        "\n",
        "\n",
        "def gcd(a, h):\n",
        "\ttemp = 0\n",
        "\twhile(1):\n",
        "\t\ttemp = a % h\n",
        "\t\tif (temp == 0):\n",
        "\t\t\treturn h\n",
        "\t\ta = h\n",
        "\t\th = temp\n",
        "\n",
        "\n",
        "p = 3\n",
        "q = 11\n",
        "n = p*q\n",
        "e = 2\n",
        "phi = (p-1)*(q-1)\n",
        "\n",
        "while (e < phi):\n",
        "\n",
        "\t# e must be co-prime to phi and\n",
        "\t# smaller than phi.\n",
        "\tif(gcd(e, phi) == 1):\n",
        "\t\tbreak\n",
        "\telse:\n",
        "\t\te = e+1\n",
        "\n",
        "print('e',e)\n",
        "\n",
        "# Private key (d stands for decrypt)\n",
        "# choosing d such that it satisfies\n",
        "# d*e = 1 + k * totient\n",
        "\n",
        "k = 2\n",
        "d = (1 + (k*phi))/e\n",
        "#d = 1/(e%phi)\n",
        "\n",
        "print('d', d)\n",
        "\n",
        "# Message to be encrypted\n",
        "msg = 2\n",
        "print(\"Message data = \", msg)\n",
        "\n",
        "# Encryption c = (msg ^ e) % n\n",
        "c = pow(msg, e)\n",
        "c = math.fmod(c, n)\n",
        "print(\"Encrypted data = \", c)\n",
        "\n",
        "# Decryption m = (c ^ d) % n\n",
        "m = pow(c, d)\n",
        "m = math.fmod(m, n)\n",
        "print(\"Original Message Sent = \", round(m))\n",
        "\n",
        "\n",
        "\n"
      ]
    },
    {
      "cell_type": "code",
      "source": [],
      "metadata": {
        "id": "9KqPq-6UnWhU"
      },
      "execution_count": null,
      "outputs": []
    }
  ]
}